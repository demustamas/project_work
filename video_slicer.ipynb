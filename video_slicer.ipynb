{
 "cells": [
  {
   "cell_type": "code",
   "execution_count": 1,
   "metadata": {},
   "outputs": [],
   "source": [
    "from pathlib import Path\n",
    "\n",
    "import cv2 as cv"
   ]
  },
  {
   "cell_type": "code",
   "execution_count": 40,
   "metadata": {},
   "outputs": [],
   "source": [
    "folders = [\"ch01/\"]\n",
    "data_folder = Path(\"data/test_data/\")"
   ]
  },
  {
   "cell_type": "code",
   "execution_count": 41,
   "metadata": {},
   "outputs": [
    {
     "name": "stdout",
     "output_type": "stream",
     "text": [
      "UH_OBB_NOVEKVO_1_1_21_6_21__part_1__ch01_img                          \t0000000020 frames\n",
      "UH_OBB_NOVEKVO_1_1_21_6_21__ch01_img                                  \t0000000020 frames\n"
     ]
    }
   ],
   "source": [
    "for folder in folders:\n",
    "    folder = Path(folder)\n",
    "    src = data_folder / folder\n",
    "    dst = data_folder / folder.parts[0] / \"extracted_imgs\"\n",
    "    try:\n",
    "        dst.mkdir()\n",
    "    except FileExistsError:\n",
    "        print(f\"Folder already exists: /{dst}\")\n",
    "    for entity in src.iterdir():\n",
    "        if entity.suffix == \".dat\":\n",
    "            base_name = f\"{entity.stem}__{folder.parts[0]}_img\"\n",
    "            base_name = base_name.replace(\".\", \"__part_\")\n",
    "            print(f\"{base_name:70s}\", end=\"\\t\")\n",
    "            \n",
    "            cap = cv.VideoCapture(str(entity))\n",
    "            frame_no = 0\n",
    "\n",
    "            ret, frame = cap.read()\n",
    "            while ret:\n",
    "                filename = f\"{base_name}_{frame_no:010d}.jpg\"\n",
    "                cv.imwrite(str(dst / filename), frame)\n",
    "                ret, frame = cap.read()\n",
    "                frame_no += 1\n",
    "                if frame_no == 20:\n",
    "                    break\n",
    "            print(f\"{frame_no:010d} frames\")\n",
    "    "
   ]
  },
  {
   "cell_type": "code",
   "execution_count": null,
   "metadata": {},
   "outputs": [],
   "source": []
  }
 ],
 "metadata": {
  "kernelspec": {
   "display_name": "py39",
   "language": "python",
   "name": "python3"
  },
  "language_info": {
   "codemirror_mode": {
    "name": "ipython",
    "version": 3
   },
   "file_extension": ".py",
   "mimetype": "text/x-python",
   "name": "python",
   "nbconvert_exporter": "python",
   "pygments_lexer": "ipython3",
   "version": "3.9.5"
  },
  "orig_nbformat": 4
 },
 "nbformat": 4,
 "nbformat_minor": 2
}
