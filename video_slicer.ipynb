{
 "cells": [
  {
   "cell_type": "code",
   "execution_count": 1,
   "metadata": {},
   "outputs": [],
   "source": [
    "from pathlib import Path\n",
    "\n",
    "import cv2 as cv"
   ]
  },
  {
   "cell_type": "code",
   "execution_count": 2,
   "metadata": {},
   "outputs": [],
   "source": [
    "folders = [\n",
    "    \"UH_MAV_82_E_1_6_2_22/CHANNEL_01_KUP\",\n",
    "    \"UH_MAV_82_E_1_6_2_22/CHANNEL_02_COR\",\n",
    "]\n",
    "data_folder = Path(\"data/FMK_008/\")"
   ]
  },
  {
   "cell_type": "code",
   "execution_count": 3,
   "metadata": {},
   "outputs": [
    {
     "name": "stdout",
     "output_type": "stream",
     "text": [
      "CHANNEL_01_KUP__UH_MAV_82_E_1_6_2_22__part_02_img                     \t0000029784 frames\n",
      "CHANNEL_01_KUP__UH_MAV_82_E_1_6_2_22__part_06_img                     \t0000015820 frames\n",
      "CHANNEL_01_KUP__UH_MAV_82_E_1_6_2_22_img                              \t"
     ]
    },
    {
     "name": "stderr",
     "output_type": "stream",
     "text": [
      "[mjpeg @ 0x562cbb8f0140] overread 8\n"
     ]
    },
    {
     "name": "stdout",
     "output_type": "stream",
     "text": [
      "0000026417 frames\n",
      "CHANNEL_01_KUP__UH_MAV_82_E_1_6_2_22__part_04_img                     \t0000029564 frames\n",
      "CHANNEL_01_KUP__UH_MAV_82_E_1_6_2_22__part_03_img                     \t0000030804 frames\n",
      "CHANNEL_01_KUP__UH_MAV_82_E_1_6_2_22__part_05_img                     \t0000029299 frames\n",
      "CHANNEL_01_KUP__UH_MAV_82_E_1_6_2_22__part_01_img                     \t0000029981 frames\n",
      "Folder already exists: /data/FMK_008/UH_MAV_82_E_1_6_2_22/extracted_imgs\n",
      "CHANNEL_02_COR__UH_MAV_82_E_1_6_2_22__part_07_img                     \t0000003753 frames\n",
      "CHANNEL_02_COR__UH_MAV_82_E_1_6_2_22__part_02_img                     \t0000028264 frames\n",
      "CHANNEL_02_COR__UH_MAV_82_E_1_6_2_22__part_06_img                     \t0000026504 frames\n",
      "CHANNEL_02_COR__UH_MAV_82_E_1_6_2_22_img                              \t0000026362 frames\n",
      "CHANNEL_02_COR__UH_MAV_82_E_1_6_2_22__part_04_img                     \t0000027527 frames\n",
      "CHANNEL_02_COR__UH_MAV_82_E_1_6_2_22__part_03_img                     \t0000028350 frames\n",
      "CHANNEL_02_COR__UH_MAV_82_E_1_6_2_22__part_05_img                     \t0000026622 frames\n",
      "CHANNEL_02_COR__UH_MAV_82_E_1_6_2_22__part_01_img                     \t0000027509 frames\n"
     ]
    }
   ],
   "source": [
    "for folder in folders:\n",
    "    folder = Path(folder)\n",
    "    src = data_folder / folder\n",
    "    dst = data_folder / folder.parts[0] / \"extracted_imgs\"\n",
    "    try:\n",
    "        dst.mkdir()\n",
    "    except FileExistsError:\n",
    "        print(f\"Folder already exists: /{dst}\")\n",
    "    for entity in src.iterdir():\n",
    "        if entity.suffix == \".dat\":\n",
    "            base_name = f\"{folder.parts[-1]}__{entity.stem}_img\"\n",
    "            base_name = base_name.replace(\".\", \"__part_\")\n",
    "            print(f\"{base_name:70s}\", end=\"\\t\")\n",
    "            \n",
    "            cap = cv.VideoCapture(str(entity))\n",
    "            frame_no = 0\n",
    "\n",
    "            ret, frame = cap.read()\n",
    "            while ret:\n",
    "                filename = f\"{base_name}_{frame_no:010d}.jpg\"\n",
    "                cv.imwrite(str(dst / filename), frame)\n",
    "                ret, frame = cap.read()\n",
    "                frame_no += 1\n",
    "            print(f\"{frame_no:010d} frames\")\n",
    "    "
   ]
  },
  {
   "cell_type": "code",
   "execution_count": null,
   "metadata": {},
   "outputs": [],
   "source": []
  }
 ],
 "metadata": {
  "kernelspec": {
   "display_name": "py39",
   "language": "python",
   "name": "python3"
  },
  "language_info": {
   "codemirror_mode": {
    "name": "ipython",
    "version": 3
   },
   "file_extension": ".py",
   "mimetype": "text/x-python",
   "name": "python",
   "nbconvert_exporter": "python",
   "pygments_lexer": "ipython3",
   "version": "3.11.3"
  },
  "orig_nbformat": 4
 },
 "nbformat": 4,
 "nbformat_minor": 2
}
