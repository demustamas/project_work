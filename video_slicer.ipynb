{
 "cells": [
  {
   "cell_type": "code",
   "execution_count": 1,
   "metadata": {},
   "outputs": [],
   "source": [
    "from pathlib import Path\n",
    "\n",
    "import cv2 as cv\n"
   ]
  },
  {
   "cell_type": "code",
   "execution_count": 3,
   "metadata": {},
   "outputs": [
    {
     "name": "stdout",
     "output_type": "stream",
     "text": [
      "Folder already exists: data/sd1_linear_sample/extracted_imgs\n"
     ]
    }
   ],
   "source": [
    "dataset = \"sd1_linear_sample\" \n",
    "filename = \"UH_MAV_77_E_2_25_4_22.dat\"\n",
    "src = Path(\"./data/\") / dataset / \"raw\" / filename\n",
    "dst = Path(\"./data/\") / dataset / \"extracted_imgs\"\n",
    "try:\n",
    "    dst.mkdir()\n",
    "except FileExistsError:\n",
    "    print(f\"Folder already exists: {dst}\")"
   ]
  },
  {
   "cell_type": "code",
   "execution_count": 4,
   "metadata": {},
   "outputs": [],
   "source": [
    "cap = cv.VideoCapture(str(src))\n",
    "\n",
    "frame_no = 0\n",
    "\n",
    "ret, frame = cap.read()\n",
    "while ret:\n",
    "    filename = f\"img_{frame_no:05d}.jpg\"\n",
    "    cv.imwrite(str(dst / filename), frame)\n",
    "    ret, frame = cap.read()\n",
    "    frame_no += 1\n"
   ]
  },
  {
   "cell_type": "code",
   "execution_count": null,
   "metadata": {},
   "outputs": [],
   "source": []
  }
 ],
 "metadata": {
  "kernelspec": {
   "display_name": "py39",
   "language": "python",
   "name": "python3"
  },
  "language_info": {
   "codemirror_mode": {
    "name": "ipython",
    "version": 3
   },
   "file_extension": ".py",
   "mimetype": "text/x-python",
   "name": "python",
   "nbconvert_exporter": "python",
   "pygments_lexer": "ipython3",
   "version": "3.9.5"
  },
  "orig_nbformat": 4
 },
 "nbformat": 4,
 "nbformat_minor": 2
}
