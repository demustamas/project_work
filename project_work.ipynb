{
 "cells": [
  {
   "cell_type": "code",
   "execution_count": 1,
   "metadata": {},
   "outputs": [],
   "source": [
    "from toolkit.logger import Logger\n",
    "from toolkit.classes import DataFrameCreator\n",
    "from toolkit.pytorch_tools import CustomImageDataLoader\n",
    "from toolkit.pytorch_tools import NeuralNetwork\n",
    "from torchvision.transforms import Compose\n",
    "from torchvision.transforms import Resize\n",
    "from torchvision.transforms import Normalize\n",
    "from torchvision.transforms import ToPILImage\n",
    "from torchvision.transforms import ToTensor\n",
    "# from torchvision.transforms import RandomHorizontalFlip\n",
    "# from torchvision.transforms import RandomVerticalFlip\n",
    "# from torchvision.transforms import RandomRotation\n",
    "# from torchvision.transforms import RandomPerspective\n",
    "\n",
    "from torchsummary import summary\n",
    "\n",
    "import torch\n",
    "import gc"
   ]
  },
  {
   "cell_type": "code",
   "execution_count": 2,
   "metadata": {},
   "outputs": [],
   "source": [
    "torch.cuda.empty_cache()\n",
    "gc.collect()\n",
    "logger = Logger(\"main\").get_logger()"
   ]
  },
  {
   "cell_type": "code",
   "execution_count": 3,
   "metadata": {},
   "outputs": [],
   "source": [
    "data = DataFrameCreator()\n",
    "\n",
    "samples = [\"./data/sd1_sample\"]"
   ]
  },
  {
   "cell_type": "code",
   "execution_count": 4,
   "metadata": {},
   "outputs": [
    {
     "name": "stderr",
     "output_type": "stream",
     "text": [
      "[ \u001b[32m   INFO   \u001b[0m ] Images loaded from ./data/sd1_sample with label non_defective\u001b[0m\n",
      "[ \u001b[32m   INFO   \u001b[0m ] Images loaded from ./data/sd1_sample with label defective\u001b[0m\n",
      "[ \u001b[32m   INFO   \u001b[0m ] Name :          dataset\u001b[0m\n",
      "[ \u001b[32m   INFO   \u001b[0m ] Type:           ('dataset',)\u001b[0m\n",
      "[ \u001b[32m   INFO   \u001b[0m ] Columns:        ('img_dir', 'img_file', 'img', 'label', 'label_enc', 'type')\u001b[0m\n",
      "[ \u001b[32m   INFO   \u001b[0m ] Shape:          (8733, 6)\u001b[0m\n",
      "[ \u001b[32m   INFO   \u001b[0m ] File types:     ('jpg',)\u001b[0m\n",
      "[ \u001b[32m   INFO   \u001b[0m ] Name :          train\u001b[0m\n",
      "[ \u001b[32m   INFO   \u001b[0m ] Type:           ('dataset',)\u001b[0m\n",
      "[ \u001b[32m   INFO   \u001b[0m ] Columns:        ('img_dir', 'img_file', 'img', 'label', 'label_enc', 'type')\u001b[0m\n",
      "[ \u001b[32m   INFO   \u001b[0m ] Shape:          (6289, 6)\u001b[0m\n",
      "[ \u001b[32m   INFO   \u001b[0m ] File types:     ('jpg',)\u001b[0m\n",
      "[ \u001b[32m   INFO   \u001b[0m ] Name :          validation\u001b[0m\n",
      "[ \u001b[32m   INFO   \u001b[0m ] Type:           ('dataset',)\u001b[0m\n",
      "[ \u001b[32m   INFO   \u001b[0m ] Columns:        ('img_dir', 'img_file', 'img', 'label', 'label_enc', 'type')\u001b[0m\n",
      "[ \u001b[32m   INFO   \u001b[0m ] Shape:          (1746, 6)\u001b[0m\n",
      "[ \u001b[32m   INFO   \u001b[0m ] File types:     ('jpg',)\u001b[0m\n",
      "[ \u001b[32m   INFO   \u001b[0m ] Name :          test\u001b[0m\n",
      "[ \u001b[32m   INFO   \u001b[0m ] Type:           ('dataset',)\u001b[0m\n",
      "[ \u001b[32m   INFO   \u001b[0m ] Columns:        ('img_dir', 'img_file', 'img', 'label', 'label_enc', 'type')\u001b[0m\n",
      "[ \u001b[32m   INFO   \u001b[0m ] Shape:          (698, 6)\u001b[0m\n",
      "[ \u001b[32m   INFO   \u001b[0m ] File types:     ('jpg',)\u001b[0m\n"
     ]
    },
    {
     "data": {
      "text/html": [
       "<div>\n",
       "<style scoped>\n",
       "    .dataframe tbody tr th:only-of-type {\n",
       "        vertical-align: middle;\n",
       "    }\n",
       "\n",
       "    .dataframe tbody tr th {\n",
       "        vertical-align: top;\n",
       "    }\n",
       "\n",
       "    .dataframe thead th {\n",
       "        text-align: right;\n",
       "    }\n",
       "</style>\n",
       "<table border=\"1\" class=\"dataframe\">\n",
       "  <thead>\n",
       "    <tr style=\"text-align: right;\">\n",
       "      <th></th>\n",
       "      <th>img_dir</th>\n",
       "      <th>img_file</th>\n",
       "      <th>img</th>\n",
       "      <th>label</th>\n",
       "      <th>label_enc</th>\n",
       "      <th>type</th>\n",
       "    </tr>\n",
       "  </thead>\n",
       "  <tbody>\n",
       "    <tr>\n",
       "      <th>0</th>\n",
       "      <td>data/sd1_sample/non_defective</td>\n",
       "      <td>img_00000.jpg</td>\n",
       "      <td>data/sd1_sample/non_defective/img_00000.jpg</td>\n",
       "      <td>non_defective</td>\n",
       "      <td>0</td>\n",
       "      <td>dataset</td>\n",
       "    </tr>\n",
       "    <tr>\n",
       "      <th>1</th>\n",
       "      <td>data/sd1_sample/non_defective</td>\n",
       "      <td>img_00001.jpg</td>\n",
       "      <td>data/sd1_sample/non_defective/img_00001.jpg</td>\n",
       "      <td>non_defective</td>\n",
       "      <td>0</td>\n",
       "      <td>dataset</td>\n",
       "    </tr>\n",
       "    <tr>\n",
       "      <th>2</th>\n",
       "      <td>data/sd1_sample/non_defective</td>\n",
       "      <td>img_00002.jpg</td>\n",
       "      <td>data/sd1_sample/non_defective/img_00002.jpg</td>\n",
       "      <td>non_defective</td>\n",
       "      <td>0</td>\n",
       "      <td>dataset</td>\n",
       "    </tr>\n",
       "    <tr>\n",
       "      <th>3</th>\n",
       "      <td>data/sd1_sample/non_defective</td>\n",
       "      <td>img_00003.jpg</td>\n",
       "      <td>data/sd1_sample/non_defective/img_00003.jpg</td>\n",
       "      <td>non_defective</td>\n",
       "      <td>0</td>\n",
       "      <td>dataset</td>\n",
       "    </tr>\n",
       "    <tr>\n",
       "      <th>4</th>\n",
       "      <td>data/sd1_sample/non_defective</td>\n",
       "      <td>img_00004.jpg</td>\n",
       "      <td>data/sd1_sample/non_defective/img_00004.jpg</td>\n",
       "      <td>non_defective</td>\n",
       "      <td>0</td>\n",
       "      <td>dataset</td>\n",
       "    </tr>\n",
       "  </tbody>\n",
       "</table>\n",
       "</div>"
      ],
      "text/plain": [
       "                         img_dir       img_file  \\\n",
       "0  data/sd1_sample/non_defective  img_00000.jpg   \n",
       "1  data/sd1_sample/non_defective  img_00001.jpg   \n",
       "2  data/sd1_sample/non_defective  img_00002.jpg   \n",
       "3  data/sd1_sample/non_defective  img_00003.jpg   \n",
       "4  data/sd1_sample/non_defective  img_00004.jpg   \n",
       "\n",
       "                                           img          label label_enc  \\\n",
       "0  data/sd1_sample/non_defective/img_00000.jpg  non_defective         0   \n",
       "1  data/sd1_sample/non_defective/img_00001.jpg  non_defective         0   \n",
       "2  data/sd1_sample/non_defective/img_00002.jpg  non_defective         0   \n",
       "3  data/sd1_sample/non_defective/img_00003.jpg  non_defective         0   \n",
       "4  data/sd1_sample/non_defective/img_00004.jpg  non_defective         0   \n",
       "\n",
       "      type  \n",
       "0  dataset  \n",
       "1  dataset  \n",
       "2  dataset  \n",
       "3  dataset  \n",
       "4  dataset  "
      ]
     },
     "execution_count": 4,
     "metadata": {},
     "output_type": "execute_result"
    }
   ],
   "source": [
    "for sample in samples:\n",
    "    data.load_dataset(\n",
    "        sample_dir=sample, labels={\"non_defective\": 0, \"defective\": 1}\n",
    "    )\n",
    "data.split_dataset()\n",
    "data.info()\n",
    "data[\"dataset\"].head()"
   ]
  },
  {
   "cell_type": "code",
   "execution_count": 5,
   "metadata": {},
   "outputs": [
    {
     "name": "stderr",
     "output_type": "stream",
     "text": [
      "[ \u001b[32m   INFO   \u001b[0m ] CustomImageDataSet created\u001b[0m\n",
      "[ \u001b[32m   INFO   \u001b[0m ] Setting dataloader subprocesses to 8\u001b[0m\n",
      "[ \u001b[32m   INFO   \u001b[0m ] Dataloaders created\u001b[0m\n"
     ]
    }
   ],
   "source": [
    "mean = [0.485, 0.456, 0.406]\n",
    "std = [0.229, 0.224, 0.225]\n",
    "input_size = (256, 64)\n",
    "\n",
    "transform = {\n",
    "    \"train\": Compose(\n",
    "        [\n",
    "            ToPILImage(),\n",
    "            ToTensor(),\n",
    "            Resize(size=input_size),\n",
    "            Normalize(mean=mean, std=std),\n",
    "        ]\n",
    "    ),\n",
    "    \"validation\": Compose(\n",
    "        [\n",
    "            ToPILImage(),\n",
    "            ToTensor(),\n",
    "            Resize(size=input_size),\n",
    "            Normalize(mean=mean, std=std),\n",
    "        ]\n",
    "    ),\n",
    "    \"test\": Compose(\n",
    "        [\n",
    "            ToPILImage(),\n",
    "            ToTensor(),\n",
    "            Resize(size=input_size),\n",
    "            Normalize(mean=mean, std=std),\n",
    "        ]\n",
    "    ),\n",
    "}\n",
    "target_transform = {\n",
    "    \"train\": None,\n",
    "    \"validation\": None,\n",
    "    \"test\": None,\n",
    "}\n",
    "\n",
    "loader = CustomImageDataLoader(\n",
    "    dataset=data,\n",
    "    image_col=\"img\",\n",
    "    label_col=\"label_enc\",\n",
    "    transform=transform,\n",
    "    target_transform=target_transform,\n",
    ")\n",
    "loader.create_dataloaders(batch_size=8)"
   ]
  },
  {
   "cell_type": "code",
   "execution_count": 6,
   "metadata": {},
   "outputs": [
    {
     "name": "stderr",
     "output_type": "stream",
     "text": [
      "[ \u001b[32m   INFO   \u001b[0m ] Model filename: results/test/20230419_221319.pth\u001b[0m\n",
      "[ \u001b[32m   INFO   \u001b[0m ] Results filename: results/test/20230419_221319.csv\u001b[0m\n",
      "[ \u001b[32m   INFO   \u001b[0m ] Neural Network constructed: test\u001b[0m\n",
      "[ \u001b[32m   INFO   \u001b[0m ] NeuralNetwork(\n",
      "  (encoder): Encoder(\n",
      "    (encoder): Sequential(\n",
      "      (0): Conv2d(3, 64, kernel_size=(3, 3), stride=(1, 1), padding=(1, 1))\n",
      "      (1): ReLU(inplace=True)\n",
      "      (2): Conv2d(64, 64, kernel_size=(3, 3), stride=(1, 1), padding=(1, 1))\n",
      "      (3): ReLU(inplace=True)\n",
      "      (4): MaxPool2d(kernel_size=2, stride=2, padding=0, dilation=1, ceil_mode=False)\n",
      "      (5): Conv2d(64, 128, kernel_size=(3, 3), stride=(1, 1), padding=(1, 1))\n",
      "      (6): ReLU(inplace=True)\n",
      "      (7): Conv2d(128, 128, kernel_size=(3, 3), stride=(1, 1), padding=(1, 1))\n",
      "      (8): ReLU(inplace=True)\n",
      "      (9): MaxPool2d(kernel_size=2, stride=2, padding=0, dilation=1, ceil_mode=False)\n",
      "      (10): Conv2d(128, 256, kernel_size=(3, 3), stride=(1, 1), padding=(1, 1))\n",
      "      (11): ReLU(inplace=True)\n",
      "      (12): Conv2d(256, 256, kernel_size=(3, 3), stride=(1, 1), padding=(1, 1))\n",
      "      (13): ReLU(inplace=True)\n",
      "      (14): Conv2d(256, 256, kernel_size=(3, 3), stride=(1, 1), padding=(1, 1))\n",
      "      (15): ReLU(inplace=True)\n",
      "      (16): Conv2d(256, 256, kernel_size=(3, 3), stride=(1, 1), padding=(1, 1))\n",
      "      (17): ReLU(inplace=True)\n",
      "      (18): MaxPool2d(kernel_size=2, stride=2, padding=0, dilation=1, ceil_mode=False)\n",
      "      (19): Conv2d(256, 512, kernel_size=(3, 3), stride=(1, 1), padding=(1, 1))\n",
      "      (20): ReLU(inplace=True)\n",
      "      (21): Conv2d(512, 512, kernel_size=(3, 3), stride=(1, 1), padding=(1, 1))\n",
      "      (22): ReLU(inplace=True)\n",
      "      (23): Conv2d(512, 512, kernel_size=(3, 3), stride=(1, 1), padding=(1, 1))\n",
      "      (24): ReLU(inplace=True)\n",
      "      (25): Conv2d(512, 512, kernel_size=(3, 3), stride=(1, 1), padding=(1, 1))\n",
      "      (26): ReLU(inplace=True)\n",
      "      (27): MaxPool2d(kernel_size=2, stride=2, padding=0, dilation=1, ceil_mode=False)\n",
      "      (28): Conv2d(512, 512, kernel_size=(3, 3), stride=(1, 1), padding=(1, 1))\n",
      "      (29): ReLU(inplace=True)\n",
      "      (30): Conv2d(512, 512, kernel_size=(3, 3), stride=(1, 1), padding=(1, 1))\n",
      "      (31): ReLU(inplace=True)\n",
      "      (32): Conv2d(512, 512, kernel_size=(3, 3), stride=(1, 1), padding=(1, 1))\n",
      "      (33): ReLU(inplace=True)\n",
      "      (34): Conv2d(512, 512, kernel_size=(3, 3), stride=(1, 1), padding=(1, 1))\n",
      "      (35): ReLU(inplace=True)\n",
      "      (36): MaxPool2d(kernel_size=2, stride=2, padding=0, dilation=1, ceil_mode=False)\n",
      "    )\n",
      "  )\n",
      "  (decoder): Decoder(\n",
      "    (decoder): Sequential(\n",
      "      (0): Upsample(scale_factor=2.0, mode=nearest)\n",
      "      (1): ReLU()\n",
      "      (2): ConvTranspose2d(512, 512, kernel_size=(3, 3), stride=(1, 1), padding=(1, 1))\n",
      "      (3): ReLU()\n",
      "      (4): ConvTranspose2d(512, 512, kernel_size=(3, 3), stride=(1, 1), padding=(1, 1))\n",
      "      (5): ReLU()\n",
      "      (6): ConvTranspose2d(512, 512, kernel_size=(3, 3), stride=(1, 1), padding=(1, 1))\n",
      "      (7): ReLU()\n",
      "      (8): ConvTranspose2d(512, 512, kernel_size=(3, 3), stride=(1, 1), padding=(1, 1))\n",
      "      (9): Upsample(scale_factor=2.0, mode=nearest)\n",
      "      (10): ReLU()\n",
      "      (11): ConvTranspose2d(512, 512, kernel_size=(3, 3), stride=(1, 1), padding=(1, 1))\n",
      "      (12): ReLU()\n",
      "      (13): ConvTranspose2d(512, 512, kernel_size=(3, 3), stride=(1, 1), padding=(1, 1))\n",
      "      (14): ReLU()\n",
      "      (15): ConvTranspose2d(512, 512, kernel_size=(3, 3), stride=(1, 1), padding=(1, 1))\n",
      "      (16): ReLU()\n",
      "      (17): ConvTranspose2d(512, 256, kernel_size=(3, 3), stride=(1, 1), padding=(1, 1))\n",
      "      (18): Upsample(scale_factor=2.0, mode=nearest)\n",
      "      (19): ReLU()\n",
      "      (20): ConvTranspose2d(256, 256, kernel_size=(3, 3), stride=(1, 1), padding=(1, 1))\n",
      "      (21): ReLU()\n",
      "      (22): ConvTranspose2d(256, 256, kernel_size=(3, 3), stride=(1, 1), padding=(1, 1))\n",
      "      (23): ReLU()\n",
      "      (24): ConvTranspose2d(256, 256, kernel_size=(3, 3), stride=(1, 1), padding=(1, 1))\n",
      "      (25): ReLU()\n",
      "      (26): ConvTranspose2d(256, 128, kernel_size=(3, 3), stride=(1, 1), padding=(1, 1))\n",
      "      (27): Upsample(scale_factor=2.0, mode=nearest)\n",
      "      (28): ReLU()\n",
      "      (29): ConvTranspose2d(128, 128, kernel_size=(3, 3), stride=(1, 1), padding=(1, 1))\n",
      "      (30): ReLU()\n",
      "      (31): ConvTranspose2d(128, 64, kernel_size=(3, 3), stride=(1, 1), padding=(1, 1))\n",
      "      (32): Upsample(scale_factor=2.0, mode=nearest)\n",
      "      (33): ReLU()\n",
      "      (34): ConvTranspose2d(64, 64, kernel_size=(3, 3), stride=(1, 1), padding=(1, 1))\n",
      "      (35): ReLU()\n",
      "      (36): ConvTranspose2d(64, 3, kernel_size=(3, 3), stride=(1, 1), padding=(1, 1))\n",
      "    )\n",
      "  )\n",
      "  (loss): MSELoss()\n",
      ")\u001b[0m\n",
      "[ \u001b[32m   INFO   \u001b[0m ] Setting up CUDA device\u001b[0m\n",
      "[ \u001b[33m WARNING  \u001b[0m ] Device set manually to cpu\u001b[0m\n"
     ]
    }
   ],
   "source": [
    "model = NeuralNetwork(name=\"test\", encoder_name=\"VGG19\", encoder_weights=\"IMAGENET1K_V1\", num_classes=3)\n",
    "model.init_device(device=\"cpu\")\n",
    "# model.results.create_dashboard(interval=10)\n",
    "# model.results.dashboard.run_server()"
   ]
  },
  {
   "cell_type": "code",
   "execution_count": 8,
   "metadata": {},
   "outputs": [
    {
     "name": "stdout",
     "output_type": "stream",
     "text": [
      "----------------------------------------------------------------\n",
      "        Layer (type)               Output Shape         Param #\n",
      "================================================================\n",
      "            Conv2d-1          [-1, 64, 256, 64]           1,792\n",
      "              ReLU-2          [-1, 64, 256, 64]               0\n",
      "            Conv2d-3          [-1, 64, 256, 64]          36,928\n",
      "              ReLU-4          [-1, 64, 256, 64]               0\n",
      "         MaxPool2d-5          [-1, 64, 128, 32]               0\n",
      "            Conv2d-6         [-1, 128, 128, 32]          73,856\n",
      "              ReLU-7         [-1, 128, 128, 32]               0\n",
      "            Conv2d-8         [-1, 128, 128, 32]         147,584\n",
      "              ReLU-9         [-1, 128, 128, 32]               0\n",
      "        MaxPool2d-10          [-1, 128, 64, 16]               0\n",
      "           Conv2d-11          [-1, 256, 64, 16]         295,168\n",
      "             ReLU-12          [-1, 256, 64, 16]               0\n",
      "           Conv2d-13          [-1, 256, 64, 16]         590,080\n",
      "             ReLU-14          [-1, 256, 64, 16]               0\n",
      "           Conv2d-15          [-1, 256, 64, 16]         590,080\n",
      "             ReLU-16          [-1, 256, 64, 16]               0\n",
      "           Conv2d-17          [-1, 256, 64, 16]         590,080\n",
      "             ReLU-18          [-1, 256, 64, 16]               0\n",
      "        MaxPool2d-19           [-1, 256, 32, 8]               0\n",
      "           Conv2d-20           [-1, 512, 32, 8]       1,180,160\n",
      "             ReLU-21           [-1, 512, 32, 8]               0\n",
      "           Conv2d-22           [-1, 512, 32, 8]       2,359,808\n",
      "             ReLU-23           [-1, 512, 32, 8]               0\n",
      "           Conv2d-24           [-1, 512, 32, 8]       2,359,808\n",
      "             ReLU-25           [-1, 512, 32, 8]               0\n",
      "           Conv2d-26           [-1, 512, 32, 8]       2,359,808\n",
      "             ReLU-27           [-1, 512, 32, 8]               0\n",
      "        MaxPool2d-28           [-1, 512, 16, 4]               0\n",
      "           Conv2d-29           [-1, 512, 16, 4]       2,359,808\n",
      "             ReLU-30           [-1, 512, 16, 4]               0\n",
      "           Conv2d-31           [-1, 512, 16, 4]       2,359,808\n",
      "             ReLU-32           [-1, 512, 16, 4]               0\n",
      "           Conv2d-33           [-1, 512, 16, 4]       2,359,808\n",
      "             ReLU-34           [-1, 512, 16, 4]               0\n",
      "           Conv2d-35           [-1, 512, 16, 4]       2,359,808\n",
      "             ReLU-36           [-1, 512, 16, 4]               0\n",
      "        MaxPool2d-37            [-1, 512, 8, 2]               0\n",
      "          Encoder-38            [-1, 512, 8, 2]               0\n",
      "         Upsample-39           [-1, 512, 16, 4]               0\n",
      "             ReLU-40           [-1, 512, 16, 4]               0\n",
      "  ConvTranspose2d-41           [-1, 512, 16, 4]       2,359,808\n",
      "             ReLU-42           [-1, 512, 16, 4]               0\n",
      "  ConvTranspose2d-43           [-1, 512, 16, 4]       2,359,808\n",
      "             ReLU-44           [-1, 512, 16, 4]               0\n",
      "  ConvTranspose2d-45           [-1, 512, 16, 4]       2,359,808\n",
      "             ReLU-46           [-1, 512, 16, 4]               0\n",
      "  ConvTranspose2d-47           [-1, 512, 16, 4]       2,359,808\n",
      "         Upsample-48           [-1, 512, 32, 8]               0\n",
      "             ReLU-49           [-1, 512, 32, 8]               0\n",
      "  ConvTranspose2d-50           [-1, 512, 32, 8]       2,359,808\n",
      "             ReLU-51           [-1, 512, 32, 8]               0\n",
      "  ConvTranspose2d-52           [-1, 512, 32, 8]       2,359,808\n",
      "             ReLU-53           [-1, 512, 32, 8]               0\n",
      "  ConvTranspose2d-54           [-1, 512, 32, 8]       2,359,808\n",
      "             ReLU-55           [-1, 512, 32, 8]               0\n",
      "  ConvTranspose2d-56           [-1, 256, 32, 8]       1,179,904\n",
      "         Upsample-57          [-1, 256, 64, 16]               0\n",
      "             ReLU-58          [-1, 256, 64, 16]               0\n",
      "  ConvTranspose2d-59          [-1, 256, 64, 16]         590,080\n",
      "             ReLU-60          [-1, 256, 64, 16]               0\n",
      "  ConvTranspose2d-61          [-1, 256, 64, 16]         590,080\n",
      "             ReLU-62          [-1, 256, 64, 16]               0\n",
      "  ConvTranspose2d-63          [-1, 256, 64, 16]         590,080\n",
      "             ReLU-64          [-1, 256, 64, 16]               0\n",
      "  ConvTranspose2d-65          [-1, 128, 64, 16]         295,040\n",
      "         Upsample-66         [-1, 128, 128, 32]               0\n",
      "             ReLU-67         [-1, 128, 128, 32]               0\n",
      "  ConvTranspose2d-68         [-1, 128, 128, 32]         147,584\n",
      "             ReLU-69         [-1, 128, 128, 32]               0\n",
      "  ConvTranspose2d-70          [-1, 64, 128, 32]          73,792\n",
      "         Upsample-71          [-1, 64, 256, 64]               0\n",
      "             ReLU-72          [-1, 64, 256, 64]               0\n",
      "  ConvTranspose2d-73          [-1, 64, 256, 64]          36,928\n",
      "             ReLU-74          [-1, 64, 256, 64]               0\n",
      "  ConvTranspose2d-75           [-1, 3, 256, 64]           1,731\n",
      "          Decoder-76           [-1, 3, 256, 64]               0\n",
      "================================================================\n",
      "Total params: 40,048,259\n",
      "Trainable params: 40,048,259\n",
      "Non-trainable params: 0\n",
      "----------------------------------------------------------------\n",
      "Input size (MB): 0.19\n",
      "Forward/backward pass size (MB): 156.38\n",
      "Params size (MB): 152.77\n",
      "Estimated Total Size (MB): 309.33\n",
      "----------------------------------------------------------------\n"
     ]
    }
   ],
   "source": [
    "summary(model, input_size=(3, *input_size), device=\"cpu\")"
   ]
  },
  {
   "cell_type": "code",
   "execution_count": 9,
   "metadata": {},
   "outputs": [
    {
     "name": "stderr",
     "output_type": "stream",
     "text": [
      "[ \u001b[32m   INFO   \u001b[0m ] Model training started\u001b[0m\n",
      "[ \u001b[32m   INFO   \u001b[0m ] Epoch:    0 Loss:  0.1683 Validation loss:  0.0919   \u001b[0m\n",
      "[ \u001b[32m   INFO   \u001b[0m ] Epoch:    1 Loss:  0.0854 Validation loss:  0.0815   \u001b[0m\n",
      "[ \u001b[32m   INFO   \u001b[0m ] Epoch:    2 Loss:  0.0782 Validation loss:  0.0762   \u001b[0m\n",
      "[ \u001b[32m   INFO   \u001b[0m ] Epoch:    3 Loss:  0.0734 Validation loss:  0.0801   \u001b[0m\n",
      "[ \u001b[32m   INFO   \u001b[0m ] Epoch:    4 Loss:  0.0704 Validation loss:  0.0701   \u001b[0m\n",
      "[ \u001b[32m   INFO   \u001b[0m ] Epoch:    5 Loss:  0.0679 Validation loss:  0.0684   \u001b[0m\n",
      "[ \u001b[32m   INFO   \u001b[0m ] Epoch:    6 Loss:  0.0658 Validation loss:  0.0657   \u001b[0m\n",
      "[ \u001b[32m   INFO   \u001b[0m ] Epoch:    7 Loss:  0.0641 Validation loss:  0.0657   \u001b[0m\n",
      "[ \u001b[32m   INFO   \u001b[0m ] Epoch:    8 Loss:  0.0629 Validation loss:  0.0632   \u001b[0m\n",
      "[ \u001b[32m   INFO   \u001b[0m ] Epoch:    9 Loss:  0.0618 Validation loss:  0.0636   \u001b[0m\n"
     ]
    }
   ],
   "source": [
    "epochs = 10\n",
    "\n",
    "model.train_net(epochs=epochs, train_loader=loader[\"train\"], validation_loader=loader[\"validation\"])"
   ]
  },
  {
   "cell_type": "code",
   "execution_count": 10,
   "metadata": {},
   "outputs": [
    {
     "data": {
      "text/html": [
       "<div>\n",
       "<style scoped>\n",
       "    .dataframe tbody tr th:only-of-type {\n",
       "        vertical-align: middle;\n",
       "    }\n",
       "\n",
       "    .dataframe tbody tr th {\n",
       "        vertical-align: top;\n",
       "    }\n",
       "\n",
       "    .dataframe thead th {\n",
       "        text-align: right;\n",
       "    }\n",
       "</style>\n",
       "<table border=\"1\" class=\"dataframe\">\n",
       "  <thead>\n",
       "    <tr style=\"text-align: right;\">\n",
       "      <th></th>\n",
       "      <th>loss</th>\n",
       "      <th>accuracy</th>\n",
       "      <th>validation_loss</th>\n",
       "      <th>validation_acc</th>\n",
       "    </tr>\n",
       "  </thead>\n",
       "  <tbody>\n",
       "    <tr>\n",
       "      <th>0</th>\n",
       "      <td>0.168271</td>\n",
       "      <td>0.0</td>\n",
       "      <td>0.091934</td>\n",
       "      <td>0.0</td>\n",
       "    </tr>\n",
       "    <tr>\n",
       "      <th>1</th>\n",
       "      <td>0.085362</td>\n",
       "      <td>0.0</td>\n",
       "      <td>0.081497</td>\n",
       "      <td>0.0</td>\n",
       "    </tr>\n",
       "    <tr>\n",
       "      <th>2</th>\n",
       "      <td>0.078238</td>\n",
       "      <td>0.0</td>\n",
       "      <td>0.076248</td>\n",
       "      <td>0.0</td>\n",
       "    </tr>\n",
       "    <tr>\n",
       "      <th>3</th>\n",
       "      <td>0.073408</td>\n",
       "      <td>0.0</td>\n",
       "      <td>0.080081</td>\n",
       "      <td>0.0</td>\n",
       "    </tr>\n",
       "    <tr>\n",
       "      <th>4</th>\n",
       "      <td>0.070370</td>\n",
       "      <td>0.0</td>\n",
       "      <td>0.070100</td>\n",
       "      <td>0.0</td>\n",
       "    </tr>\n",
       "    <tr>\n",
       "      <th>5</th>\n",
       "      <td>0.067896</td>\n",
       "      <td>0.0</td>\n",
       "      <td>0.068413</td>\n",
       "      <td>0.0</td>\n",
       "    </tr>\n",
       "    <tr>\n",
       "      <th>6</th>\n",
       "      <td>0.065780</td>\n",
       "      <td>0.0</td>\n",
       "      <td>0.065695</td>\n",
       "      <td>0.0</td>\n",
       "    </tr>\n",
       "    <tr>\n",
       "      <th>7</th>\n",
       "      <td>0.064106</td>\n",
       "      <td>0.0</td>\n",
       "      <td>0.065748</td>\n",
       "      <td>0.0</td>\n",
       "    </tr>\n",
       "    <tr>\n",
       "      <th>8</th>\n",
       "      <td>0.062887</td>\n",
       "      <td>0.0</td>\n",
       "      <td>0.063205</td>\n",
       "      <td>0.0</td>\n",
       "    </tr>\n",
       "    <tr>\n",
       "      <th>9</th>\n",
       "      <td>0.061801</td>\n",
       "      <td>0.0</td>\n",
       "      <td>0.063558</td>\n",
       "      <td>0.0</td>\n",
       "    </tr>\n",
       "  </tbody>\n",
       "</table>\n",
       "</div>"
      ],
      "text/plain": [
       "       loss  accuracy  validation_loss  validation_acc\n",
       "0  0.168271       0.0         0.091934             0.0\n",
       "1  0.085362       0.0         0.081497             0.0\n",
       "2  0.078238       0.0         0.076248             0.0\n",
       "3  0.073408       0.0         0.080081             0.0\n",
       "4  0.070370       0.0         0.070100             0.0\n",
       "5  0.067896       0.0         0.068413             0.0\n",
       "6  0.065780       0.0         0.065695             0.0\n",
       "7  0.064106       0.0         0.065748             0.0\n",
       "8  0.062887       0.0         0.063205             0.0\n",
       "9  0.061801       0.0         0.063558             0.0"
      ]
     },
     "execution_count": 10,
     "metadata": {},
     "output_type": "execute_result"
    }
   ],
   "source": [
    "model.results.data"
   ]
  },
  {
   "cell_type": "code",
   "execution_count": 11,
   "metadata": {},
   "outputs": [
    {
     "name": "stderr",
     "output_type": "stream",
     "text": [
      "[ \u001b[32m   INFO   \u001b[0m ] Model saved to results/test/20230419_221319.pth\u001b[0m\n",
      "[ \u001b[32m   INFO   \u001b[0m ] Results saved to: results/test/20230419_221319.csv\u001b[0m\n"
     ]
    }
   ],
   "source": [
    "model.save_model(epoch=model.results.data.index[-1], loss=model.results.data[\"loss\"].iloc[-1])\n",
    "model.results.save_data()"
   ]
  },
  {
   "cell_type": "code",
   "execution_count": 12,
   "metadata": {},
   "outputs": [
    {
     "ename": "TypeError",
     "evalue": "'AxesSubplot' object is not subscriptable",
     "output_type": "error",
     "traceback": [
      "\u001b[0;31m---------------------------------------------------------------------------\u001b[0m",
      "\u001b[0;31mTypeError\u001b[0m                                 Traceback (most recent call last)",
      "Cell \u001b[0;32mIn[12], line 1\u001b[0m\n\u001b[0;32m----> 1\u001b[0m model\u001b[39m.\u001b[39;49mresults\u001b[39m.\u001b[39;49mplot()\n",
      "File \u001b[0;32m~/proj/ai.elte.hu/Project Work/toolkit/pytorch_tools.py:474\u001b[0m, in \u001b[0;36mModelResults.plot\u001b[0;34m(self)\u001b[0m\n\u001b[1;32m    467\u001b[0m ax: plt\u001b[39m.\u001b[39mAxes\n\u001b[1;32m    468\u001b[0m fig, ax \u001b[39m=\u001b[39m plt\u001b[39m.\u001b[39msubplots(\u001b[39m1\u001b[39m, \u001b[39m1\u001b[39m, figsize\u001b[39m=\u001b[39m(\u001b[39m15\u001b[39m, \u001b[39m5\u001b[39m), dpi\u001b[39m=\u001b[39m\u001b[39m400\u001b[39m)\n\u001b[1;32m    469\u001b[0m sns\u001b[39m.\u001b[39mlineplot(\n\u001b[1;32m    470\u001b[0m     data\u001b[39m=\u001b[39m\u001b[39mself\u001b[39m\u001b[39m.\u001b[39mdata,\n\u001b[1;32m    471\u001b[0m     x\u001b[39m=\u001b[39m\u001b[39mself\u001b[39m\u001b[39m.\u001b[39mdata\u001b[39m.\u001b[39mindex,\n\u001b[1;32m    472\u001b[0m     y\u001b[39m=\u001b[39m\u001b[39m\"\u001b[39m\u001b[39mloss\u001b[39m\u001b[39m\"\u001b[39m,\n\u001b[1;32m    473\u001b[0m     label\u001b[39m=\u001b[39m\u001b[39m\"\u001b[39m\u001b[39mTrain\u001b[39m\u001b[39m\"\u001b[39m,\n\u001b[0;32m--> 474\u001b[0m     ax\u001b[39m=\u001b[39max[\u001b[39m0\u001b[39;49m],\n\u001b[1;32m    475\u001b[0m )\n\u001b[1;32m    476\u001b[0m sns\u001b[39m.\u001b[39mlineplot(\n\u001b[1;32m    477\u001b[0m     data\u001b[39m=\u001b[39m\u001b[39mself\u001b[39m\u001b[39m.\u001b[39mdata,\n\u001b[1;32m    478\u001b[0m     x\u001b[39m=\u001b[39m\u001b[39mself\u001b[39m\u001b[39m.\u001b[39mdata\u001b[39m.\u001b[39mindex,\n\u001b[0;32m   (...)\u001b[0m\n\u001b[1;32m    481\u001b[0m     ax\u001b[39m=\u001b[39max[\u001b[39m0\u001b[39m],\n\u001b[1;32m    482\u001b[0m )\n\u001b[1;32m    483\u001b[0m \u001b[39m# sns.lineplot(\u001b[39;00m\n\u001b[1;32m    484\u001b[0m \u001b[39m#     data=self.data,\u001b[39;00m\n\u001b[1;32m    485\u001b[0m \u001b[39m#     x=self.data.index,\u001b[39;00m\n\u001b[0;32m   (...)\u001b[0m\n\u001b[1;32m    495\u001b[0m \u001b[39m#     ax=ax[1],\u001b[39;00m\n\u001b[1;32m    496\u001b[0m \u001b[39m# )\u001b[39;00m\n",
      "\u001b[0;31mTypeError\u001b[0m: 'AxesSubplot' object is not subscriptable"
     ]
    },
    {
     "data": {
      "image/png": "[encoded data removed]",
      "text/plain": [
       "<Figure size 6000x2000 with 1 Axes>"
      ]
     },
     "metadata": {},
     "output_type": "display_data"
    }
   ],
   "source": [
    "model.results.plot()"
   ]
  },
  {
   "cell_type": "code",
   "execution_count": 20,
   "metadata": {},
   "outputs": [],
   "source": [
    "from sklearn.decomposition import PCA\n",
    "import numpy as np\n",
    "import matplotlib.pyplot as plt\n",
    "import seaborn as sns\n",
    "from tqdm.notebook import tqdm"
   ]
  },
  {
   "cell_type": "code",
   "execution_count": 21,
   "metadata": {},
   "outputs": [
    {
     "data": {
      "application/vnd.jupyter.widget-view+json": {
       "model_id": "6bd7f3900b444456855383c76e752f50",
       "version_major": 2,
       "version_minor": 0
      },
      "text/plain": [
       "  0%|          | 0/5000 [00:00<?, ?it/s]"
      ]
     },
     "metadata": {},
     "output_type": "display_data"
    }
   ],
   "source": [
    "pred = [\n",
    "    model.predict(data[\"train\"].iloc[1].img, transform=transform[\"train\"])\n",
    "    .detach()\n",
    "    .numpy()\n",
    "    .flatten()\n",
    "    for _ in tqdm(range(5000))\n",
    "]"
   ]
  },
  {
   "cell_type": "code",
   "execution_count": 22,
   "metadata": {},
   "outputs": [],
   "source": [
    "pca = PCA(n_components=2)\n",
    "res_pca = pca.fit_transform(np.array(pred))"
   ]
  },
  {
   "cell_type": "code",
   "execution_count": 23,
   "metadata": {},
   "outputs": [
    {
     "data": {
      "text/plain": [
       "<AxesSubplot: >"
      ]
     },
     "execution_count": 23,
     "metadata": {},
     "output_type": "execute_result"
    },
    {
     "data": {
      "image/png": "[encoded data removed]",
      "text/plain": [
       "<Figure size 800x600 with 1 Axes>"
      ]
     },
     "metadata": {},
     "output_type": "display_data"
    }
   ],
   "source": [
    "_, ax = plt.subplots(1, 1, figsize=(8, 6))\n",
    "sns.scatterplot(x=res_pca[:, 0], y=res_pca[:, 1],ax=ax)"
   ]
  },
  {
   "cell_type": "code",
   "execution_count": 24,
   "metadata": {},
   "outputs": [
    {
     "data": {
      "text/plain": [
       "array([9.999997e-01, 3.218362e-14], dtype=float32)"
      ]
     },
     "execution_count": 24,
     "metadata": {},
     "output_type": "execute_result"
    }
   ],
   "source": [
    "pca.explained_variance_ratio_"
   ]
  },
  {
   "cell_type": "code",
   "execution_count": 25,
   "metadata": {},
   "outputs": [],
   "source": [
    "from sklearn.manifold import TSNE"
   ]
  },
  {
   "cell_type": "code",
   "execution_count": 30,
   "metadata": {},
   "outputs": [
    {
     "name": "stdout",
     "output_type": "stream",
     "text": [
      "[t-SNE] Computing 121 nearest neighbors...\n",
      "[t-SNE] Indexed 5000 samples in 0.008s...\n",
      "[t-SNE] Computed neighbors for 5000 samples in 3.819s...\n",
      "[t-SNE] Computed conditional probabilities for sample 1000 / 5000\n",
      "[t-SNE] Computed conditional probabilities for sample 2000 / 5000\n",
      "[t-SNE] Computed conditional probabilities for sample 3000 / 5000\n",
      "[t-SNE] Computed conditional probabilities for sample 4000 / 5000\n",
      "[t-SNE] Computed conditional probabilities for sample 5000 / 5000\n",
      "[t-SNE] Mean sigma: 0.000000\n",
      "[t-SNE] KL divergence after 250 iterations with early exaggeration: 0.000000\n",
      "[t-SNE] KL divergence after 300 iterations: 0.000000\n"
     ]
    }
   ],
   "source": [
    "tsne = TSNE(n_components=2, verbose=1, perplexity=40, n_iter=300)\n",
    "res_tsne = tsne.fit_transform(np.array(pred))"
   ]
  },
  {
   "cell_type": "code",
   "execution_count": 31,
   "metadata": {},
   "outputs": [
    {
     "data": {
      "text/plain": [
       "<AxesSubplot: >"
      ]
     },
     "execution_count": 31,
     "metadata": {},
     "output_type": "execute_result"
    },
    {
     "data": {
      "image/png": "[encoded data removed]",
      "text/plain": [
       "<Figure size 800x600 with 1 Axes>"
      ]
     },
     "metadata": {},
     "output_type": "display_data"
    }
   ],
   "source": [
    "_, ax = plt.subplots(1, 1, figsize=(8, 6))\n",
    "sns.scatterplot(x=res_tsne[:, 0], y=res_tsne[:, 1],ax=ax)"
   ]
  },
  {
   "cell_type": "code",
   "execution_count": 32,
   "metadata": {},
   "outputs": [
    {
     "name": "stdout",
     "output_type": "stream",
     "text": [
      "[t-SNE] Computing 121 nearest neighbors...\n",
      "[t-SNE] Indexed 5000 samples in 0.003s...\n",
      "[t-SNE] Computed neighbors for 5000 samples in 0.351s...\n",
      "[t-SNE] Computed conditional probabilities for sample 1000 / 5000\n",
      "[t-SNE] Computed conditional probabilities for sample 2000 / 5000\n",
      "[t-SNE] Computed conditional probabilities for sample 3000 / 5000\n",
      "[t-SNE] Computed conditional probabilities for sample 4000 / 5000\n",
      "[t-SNE] Computed conditional probabilities for sample 5000 / 5000\n",
      "[t-SNE] Mean sigma: 0.000000\n",
      "[t-SNE] KL divergence after 250 iterations with early exaggeration: 37.761967\n",
      "[t-SNE] KL divergence after 300 iterations: 0.128795\n"
     ]
    },
    {
     "data": {
      "text/plain": [
       "<AxesSubplot: >"
      ]
     },
     "execution_count": 32,
     "metadata": {},
     "output_type": "execute_result"
    },
    {
     "data": {
      "image/png": "[encoded data removed]",
      "text/plain": [
       "<Figure size 800x600 with 1 Axes>"
      ]
     },
     "metadata": {},
     "output_type": "display_data"
    }
   ],
   "source": [
    "pca = PCA(n_components=50)\n",
    "res_pca = pca.fit_transform(np.array(pred))\n",
    "tsne = TSNE(n_components=2, verbose=1, perplexity=40, n_iter=300)\n",
    "res_tsne = tsne.fit_transform(res_pca)\n",
    "_, ax = plt.subplots(1, 1, figsize=(8, 6))\n",
    "sns.scatterplot(x=res_tsne[:, 0], y=res_tsne[:, 1],ax=ax)"
   ]
  },
  {
   "cell_type": "code",
   "execution_count": null,
   "metadata": {},
   "outputs": [],
   "source": []
  }
 ],
 "metadata": {
  "kernelspec": {
   "display_name": "py39",
   "language": "python",
   "name": "python3"
  },
  "language_info": {
   "codemirror_mode": {
    "name": "ipython",
    "version": 3
   },
   "file_extension": ".py",
   "mimetype": "text/x-python",
   "name": "python",
   "nbconvert_exporter": "python",
   "pygments_lexer": "ipython3",
   "version": "3.9.5"
  },
  "orig_nbformat": 4,
  "vscode": {
   "interpreter": {
    "hash": "f88e7f4e857ba56f1514bbda4896ee561c6e75047f3e04430fec61bb1f4b42e1"
   }
  }
 },
 "nbformat": 4,
 "nbformat_minor": 2
}
